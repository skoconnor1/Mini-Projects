{
 "cells": [
  {
   "cell_type": "markdown",
   "metadata": {},
   "source": [
    "# What is the True Normal Human Body Temperature? \n",
    "\n",
    "#### Background\n",
    "\n",
    "The mean normal body temperature was held to be 37$^{\\circ}$C or 98.6$^{\\circ}$F for more than 120 years since it was first conceptualized and reported by Carl Wunderlich in a famous 1868 book. But, is this value statistically correct?"
   ]
  },
  {
   "cell_type": "markdown",
   "metadata": {},
   "source": [
    "<h3>Exercises</h3>\n",
    "\n",
    "<p>In this exercise, you will analyze a dataset of human body temperatures and employ the concepts of hypothesis testing, confidence intervals, and statistical significance.</p>\n",
    "\n",
    "<p>Answer the following questions <b>in this notebook below and submit to your Github account</b>.</p> \n",
    "\n",
    "<ol>\n",
    "<li>  Is the distribution of body temperatures normal? \n",
    "    <ul>\n",
    "    <li> Although this is not a requirement for the Central Limit Theorem to hold (read the introduction on Wikipedia's page about the CLT carefully: https://en.wikipedia.org/wiki/Central_limit_theorem), it gives us some peace of mind that the population may also be normally distributed if we assume that this sample is representative of the population.\n",
    "    <li> Think about the way you're going to check for the normality of the distribution. Graphical methods are usually used first, but there are also other ways: https://en.wikipedia.org/wiki/Normality_test\n",
    "    </ul>\n",
    "<li>  Is the sample size large? Are the observations independent?\n",
    "    <ul>\n",
    "    <li> Remember that this is a condition for the Central Limit Theorem, and hence the statistical tests we are using, to apply.\n",
    "    </ul>\n",
    "<li>  Is the true population mean really 98.6 degrees F?\n",
    "    <ul>\n",
    "    <li> First, try a bootstrap hypothesis test.\n",
    "    <li> Now, let's try frequentist statistical testing. Would you use a one-sample or two-sample test? Why?\n",
    "    <li> In this situation, is it appropriate to use the $t$ or $z$ statistic? \n",
    "    <li> Now try using the other test. How is the result be different? Why?\n",
    "    </ul>\n",
    "<li>  Draw a small sample of size 10 from the data and repeat both frequentist tests. \n",
    "    <ul>\n",
    "    <li> Which one is the correct one to use? \n",
    "    <li> What do you notice? What does this tell you about the difference in application of the $t$ and $z$ statistic?\n",
    "    </ul>\n",
    "<li>  At what temperature should we consider someone's temperature to be \"abnormal\"?\n",
    "    <ul>\n",
    "    <li> As in the previous example, try calculating everything using the boostrap approach, as well as the frequentist approach.\n",
    "    <li> Start by computing the margin of error and confidence interval. When calculating the confidence interval, keep in mind that you should use the appropriate formula for one draw, and not N draws.\n",
    "    </ul>\n",
    "<li>  Is there a significant difference between males and females in normal temperature?\n",
    "    <ul>\n",
    "    <li> What testing approach did you use and why?\n",
    "    <li> Write a story with your conclusion in the context of the original problem.\n",
    "    </ul>\n",
    "</ol>\n",
    "\n",
    "You can include written notes in notebook cells using Markdown: \n",
    "   - In the control panel at the top, choose Cell > Cell Type > Markdown\n",
    "   - Markdown syntax: http://nestacms.com/docs/creating-content/markdown-cheat-sheet\n",
    "\n",
    "#### Resources\n",
    "\n",
    "+ Information and data sources: http://www.amstat.org/publications/jse/datasets/normtemp.txt, http://www.amstat.org/publications/jse/jse_data_archive.htm\n",
    "+ Markdown syntax: http://nestacms.com/docs/creating-content/markdown-cheat-sheet\n",
    "\n",
    "****"
   ]
  },
  {
   "cell_type": "code",
   "execution_count": 1,
   "metadata": {},
   "outputs": [],
   "source": [
    "import pandas as pd\n",
    "import matplotlib.pyplot as plt\n",
    "import seaborn as sns\n",
    "import numpy as np\n",
    "\n",
    "df = pd.read_csv('data/human_body_temperature.csv')"
   ]
  },
  {
   "cell_type": "code",
   "execution_count": 2,
   "metadata": {},
   "outputs": [],
   "source": [
    "# Your work here."
   ]
  },
  {
   "cell_type": "markdown",
   "metadata": {},
   "source": [
    "# 1. Is the distribution of body temperatures normal?\n",
    "Although this is not a requirement for the Central Limit Theorem to hold (read the introduction on Wikipedia's page about the CLT carefully: https://en.wikipedia.org/wiki/Central_limit_theorem), it gives us some peace of mind that the population may also be normally distributed if we assume that this sample is representative of the population.\n",
    "Think about the way you're going to check for the normality of the distribution. Graphical methods are usually used first, but there are also other ways: https://en.wikipedia.org/wiki/Normality_test"
   ]
  },
  {
   "cell_type": "code",
   "execution_count": 3,
   "metadata": {},
   "outputs": [
    {
     "data": {
      "text/html": [
       "<div>\n",
       "<style scoped>\n",
       "    .dataframe tbody tr th:only-of-type {\n",
       "        vertical-align: middle;\n",
       "    }\n",
       "\n",
       "    .dataframe tbody tr th {\n",
       "        vertical-align: top;\n",
       "    }\n",
       "\n",
       "    .dataframe thead th {\n",
       "        text-align: right;\n",
       "    }\n",
       "</style>\n",
       "<table border=\"1\" class=\"dataframe\">\n",
       "  <thead>\n",
       "    <tr style=\"text-align: right;\">\n",
       "      <th></th>\n",
       "      <th>temperature</th>\n",
       "      <th>gender</th>\n",
       "      <th>heart_rate</th>\n",
       "    </tr>\n",
       "  </thead>\n",
       "  <tbody>\n",
       "    <tr>\n",
       "      <th>0</th>\n",
       "      <td>99.3</td>\n",
       "      <td>F</td>\n",
       "      <td>68.0</td>\n",
       "    </tr>\n",
       "    <tr>\n",
       "      <th>1</th>\n",
       "      <td>98.4</td>\n",
       "      <td>F</td>\n",
       "      <td>81.0</td>\n",
       "    </tr>\n",
       "    <tr>\n",
       "      <th>2</th>\n",
       "      <td>97.8</td>\n",
       "      <td>M</td>\n",
       "      <td>73.0</td>\n",
       "    </tr>\n",
       "    <tr>\n",
       "      <th>3</th>\n",
       "      <td>99.2</td>\n",
       "      <td>F</td>\n",
       "      <td>66.0</td>\n",
       "    </tr>\n",
       "    <tr>\n",
       "      <th>4</th>\n",
       "      <td>98.0</td>\n",
       "      <td>F</td>\n",
       "      <td>73.0</td>\n",
       "    </tr>\n",
       "  </tbody>\n",
       "</table>\n",
       "</div>"
      ],
      "text/plain": [
       "   temperature gender  heart_rate\n",
       "0         99.3      F        68.0\n",
       "1         98.4      F        81.0\n",
       "2         97.8      M        73.0\n",
       "3         99.2      F        66.0\n",
       "4         98.0      F        73.0"
      ]
     },
     "execution_count": 3,
     "metadata": {},
     "output_type": "execute_result"
    }
   ],
   "source": [
    "df.head()"
   ]
  },
  {
   "cell_type": "code",
   "execution_count": 4,
   "metadata": {},
   "outputs": [
    {
     "data": {
      "image/png": "[encoded data removed]",
      "text/plain": [
       "<Figure size 432x288 with 1 Axes>"
      ]
     },
     "metadata": {},
     "output_type": "display_data"
    },
    {
     "name": "stdout",
     "output_type": "stream",
     "text": [
      "Mean:  98.24923076923075\n",
      "St. Dev.:  0.730357778905038\n",
      "Median:  98.3\n"
     ]
    }
   ],
   "source": [
    "sns.set()\n",
    "temps = df['temperature']\n",
    "_ = plt.hist(temps, bins = 10, density = True)\n",
    "_ = plt.xlabel('Temperature')\n",
    "_ = plt.ylabel('PDF')\n",
    "plt.show()\n",
    "\n",
    "mean = np.mean(temps)\n",
    "stdev = np.std(temps)\n",
    "median = np.median(temps)\n",
    "print('Mean: ', mean)\n",
    "print('St. Dev.: ', stdev)\n",
    "print('Median: ', median)"
   ]
  },
  {
   "cell_type": "markdown",
   "metadata": {},
   "source": [
    "From this graph, the distribution does not appear to be normal, since it is not very symmetrical.  However, this could be a result of binning bias. \n",
    "Let's look at the ECDFs and the theoretical ECDF assuming data is normally distributed instead."
   ]
  },
  {
   "cell_type": "code",
   "execution_count": 5,
   "metadata": {},
   "outputs": [
    {
     "data": {
      "image/png": "[encoded data removed]",
      "text/plain": [
       "<Figure size 432x288 with 1 Axes>"
      ]
     },
     "metadata": {},
     "output_type": "display_data"
    }
   ],
   "source": [
    "samples = np.random.normal(mean, stdev, size = 1000)\n",
    "\n",
    "x = np.sort(temps)\n",
    "y = np.arange(1, len(x)+1)/len(x)\n",
    "x_theor = np.sort(samples)\n",
    "y_theor = np.arange(1, len(x_theor)+1)/len(x_theor)\n",
    "_ = plt.plot(x_theor, y_theor)\n",
    "_ = plt.plot(x, y, marker = '.', linestyle = 'none')\n",
    "_ = plt.xlabel('Temperature')\n",
    "_ = plt.ylabel('ECDF')\n",
    "\n",
    "plt.show()"
   ]
  },
  {
   "cell_type": "markdown",
   "metadata": {},
   "source": [
    "From this graph it still seems like the temp data may be normally distributed.\n",
    "I will use a normality test from scipy, with the null hypothesis that the mean temps are normally distributed.  I will choose a signficance level of 0.05."
   ]
  },
  {
   "cell_type": "code",
   "execution_count": 6,
   "metadata": {},
   "outputs": [
    {
     "name": "stdout",
     "output_type": "stream",
     "text": [
      "NormaltestResult(statistic=2.703801433319203, pvalue=0.2587479863488254)\n"
     ]
    }
   ],
   "source": [
    "from scipy.stats import normaltest\n",
    "\n",
    "print(normaltest(temps))"
   ]
  },
  {
   "cell_type": "markdown",
   "metadata": {},
   "source": [
    "Since the p-value is larger than 0.05, we do not have enough evidence to reject the null hypothesis."
   ]
  },
  {
   "cell_type": "markdown",
   "metadata": {},
   "source": [
    "# 2. Is the sample size large? Are the observations independent?\n",
    "\n",
    "Remember that this is a condition for the Central Limit Theorem, and hence the statistical tests we are using, to apply."
   ]
  },
  {
   "cell_type": "code",
   "execution_count": 7,
   "metadata": {},
   "outputs": [
    {
     "name": "stdout",
     "output_type": "stream",
     "text": [
      "130\n",
      "The sample size is large.\n"
     ]
    }
   ],
   "source": [
    "#central limit theorem - n > 30\n",
    "\n",
    "print(len(temps))\n",
    "if len(temps) > 30:\n",
    "    print('The sample size is large.')\n",
    "else:\n",
    "    print('The sample size is not large.')"
   ]
  },
  {
   "cell_type": "code",
   "execution_count": null,
   "metadata": {},
   "outputs": [],
   "source": []
  },
  {
   "cell_type": "markdown",
   "metadata": {},
   "source": [
    "# 3. Is the true population mean really 98.6 degrees F?\n",
    "First, try a bootstrap hypothesis test."
   ]
  },
  {
   "cell_type": "markdown",
   "metadata": {},
   "source": [
    "Null hypothesis: The true mean body temperature is 98.6 degrees Farenheit. <br>\n",
    "Alt hyposthesis: The true mean body temperature is not 98.6 degrees Fahrenheit. <br>\n",
    "Alpha = 0.05"
   ]
  },
  {
   "cell_type": "code",
   "execution_count": 8,
   "metadata": {},
   "outputs": [
    {
     "name": "stdout",
     "output_type": "stream",
     "text": [
      "The p-value is  0.0\n"
     ]
    }
   ],
   "source": [
    "#98.6 was the mean calculated by Carl Wunderlich\n",
    "wunderlich_val = 98.6\n",
    "\n",
    "#shift the temperature data to have a mean of 98.6 since we must assume the null hypothesis is true\n",
    "temps_shifted = temps - np.mean(temps) + wunderlich_val\n",
    "\n",
    "#use bootstrapping on the shifted data to simulate situation in which true population mean is 98.6 degrees F\n",
    "def diff_from_wunderlich(data, wunderlich_value=98.6):\n",
    "    return np.mean(data) - wunderlich_val\n",
    "\n",
    "diff_obs = diff_from_wunderlich(temps)\n",
    "\n",
    "def draw_bs_reps(data, func, size):\n",
    "    bs_replicates = np.empty(size)\n",
    "    for i in range(size):\n",
    "        bs_sample = np.random.choice(data, len(data))\n",
    "        bs_replicates[i] = func(bs_sample)\n",
    "    return bs_replicates\n",
    "\n",
    "bs_replicates = draw_bs_reps(temps_shifted, diff_from_wunderlich, 100000) \n",
    "\n",
    "p_val = np.sum(bs_replicates <= diff_obs)/100000\n",
    "print('The p-value is ', p_val)"
   ]
  },
  {
   "cell_type": "markdown",
   "metadata": {},
   "source": [
    "This means that out of 100,000 samples of the shifted data, the difference between the mean of the sample and 98.6 was never as low as or lower than -0.4 (the mean of the temperature data minus the mean reported by Crl Wunderlich).  We can reject the null hypothesis (that the true population mean body temperature is 98.6 degrees F)."
   ]
  },
  {
   "cell_type": "markdown",
   "metadata": {},
   "source": [
    "Now, let's try frequentist statistical testing. <br> Would you use a one-sample or two-sample test? Why? <br>\n",
    "In this situation, is it appropriate to use the  𝑡 or  𝑧 statistic? "
   ]
  },
  {
   "cell_type": "markdown",
   "metadata": {},
   "source": [
    "I would use a one-sample test because we are comparing one dataset to a single number.\n",
    "We are not comparing two datasets. <br>\n",
    "It is appropriate to use the z-statistic because the sample size is greater than 30."
   ]
  },
  {
   "cell_type": "code",
   "execution_count": 9,
   "metadata": {},
   "outputs": [
    {
     "name": "stdout",
     "output_type": "stream",
     "text": [
      "The z-statistic is  -5.4548232923645195  and the associated p-value is  4.9021570141012155e-08\n",
      "We can reject the null hypothesis (that the true population mean body temp is 98.6 degrees F).\n"
     ]
    }
   ],
   "source": [
    "#z-test\n",
    "\n",
    "from statsmodels.stats.weightstats import ztest\n",
    "\n",
    "z_stat, p_z = ztest(temps, value=wunderlich_val)\n",
    "print('The z-statistic is ', z_stat, ' and the associated p-value is ', p_z)\n",
    "\n",
    "if p_z > 0.05:\n",
    "    print('There is not enough evidence to reject the null hypothesis.')\n",
    "else:\n",
    "    print('We can reject the null hypothesis (that the true population mean body temp is 98.6 degrees F).')"
   ]
  },
  {
   "cell_type": "markdown",
   "metadata": {},
   "source": [
    "Now try using the other test. How is the result be different? Why?"
   ]
  },
  {
   "cell_type": "code",
   "execution_count": 10,
   "metadata": {},
   "outputs": [
    {
     "name": "stdout",
     "output_type": "stream",
     "text": [
      "The t-statistic is  -5.4548232923645195  and the associated p-value is  2.4106320415561276e-07\n",
      "We can reject the null hypothesis (that the true population mean body temp is 98.6 degrees F).\n"
     ]
    }
   ],
   "source": [
    "#t-test\n",
    "from scipy.stats import ttest_1samp\n",
    "\n",
    "t_stat, p_t = ttest_1samp(temps, wunderlich_val)\n",
    "print('The t-statistic is ', t_stat, ' and the associated p-value is ', p_t)\n",
    "\n",
    "if p_t > 0.05:\n",
    "    print('There is not enough evidence to reject the null hypothesis.')\n",
    "else:\n",
    "    print('We can reject the null hypothesis (that the true population mean body temp is 98.6 degrees F).')"
   ]
  },
  {
   "cell_type": "markdown",
   "metadata": {},
   "source": [
    "The t-statistic and z-statistic are the same, but the p-value we got using the t-test is slighlty larger than that from the z-test.  This is because the T distribution has fatter tails. "
   ]
  },
  {
   "cell_type": "markdown",
   "metadata": {},
   "source": [
    "# 4. Draw a small sample of size 10 from the data and repeat both frequentist tests.\n",
    "Which one is the correct one to use?\n",
    "What do you notice? What does this tell you about the difference in application of the 𝑡 and 𝑧 statistic?\n"
   ]
  },
  {
   "cell_type": "markdown",
   "metadata": {},
   "source": [
    "In this case, it is correct to use the t-test because the sample size is less than 30."
   ]
  },
  {
   "cell_type": "code",
   "execution_count": 11,
   "metadata": {},
   "outputs": [
    {
     "name": "stdout",
     "output_type": "stream",
     "text": [
      "The t-statistic for the small sample of body temperatures is  -3.146129192853986  and the associated p-value is  0.011810904124858964\n",
      "The z-statistic for the small sample of body temperatures is  -3.146129192853986  and the associated p-value is  0.0016544690600471502\n"
     ]
    }
   ],
   "source": [
    "small_samp = temps.sample(10)\n",
    "\n",
    "t_stat, p_t = ttest_1samp(small_samp, wunderlich_val)\n",
    "print('The t-statistic for the small sample of body temperatures is ', t_stat, ' and the associated p-value is ', p_t)\n",
    "\n",
    "z_stat, p_z = ztest(small_samp, value=wunderlich_val)\n",
    "print('The z-statistic for the small sample of body temperatures is ', z_stat, ' and the associated p-value is ', p_z)"
   ]
  },
  {
   "cell_type": "markdown",
   "metadata": {},
   "source": [
    "We again see that the t-test results in a higher p-value.  This time the differences is p-values given by a t-test and z-test is greater.  Had we chosen a significance level of 0.025, the z-test would have led to a rejection of the null hypothesis while the t-test would not have.  We see that as the sample size goes up, the p-values for the t-test approaches the p-value for the z-test.  "
   ]
  },
  {
   "cell_type": "markdown",
   "metadata": {},
   "source": [
    "# 5. At what temperature should we consider someone's temperature to be \"abnormal\"?\n",
    "As in the previous example, try calculating everything using the boostrap approach, as well as the frequentist approach. <br>\n",
    "Start by computing the margin of error and confidence interval. When calculating the confidence interval, keep in mind that you should use the appropriate formula for one draw, and not N draws.\n"
   ]
  },
  {
   "cell_type": "code",
   "execution_count": 20,
   "metadata": {},
   "outputs": [
    {
     "name": "stdout",
     "output_type": "stream",
     "text": [
      "Using the bootstrap approach the margin of error is  1.4161838479787423 and the 95% confidence interval is  [96.7 99.5]\n"
     ]
    }
   ],
   "source": [
    "#bootstrap approach - using function written in #3\n",
    "\n",
    "from scipy.stats import norm\n",
    "\n",
    "z_star = norm.ppf(0.975)\n",
    "\n",
    "def draw_bs_reps(data, func, size):\n",
    "    bs_replicates = np.empty(size)\n",
    "    for i in range(size):\n",
    "        bs_sample = np.random.choice(data, len(data))\n",
    "        bs_replicates[i] = func(bs_sample)\n",
    "    return bs_replicates\n",
    "\n",
    "bs_reps = np.empty(10000)\n",
    "for i in range(10000):\n",
    "    bs_reps[i] = np.random.choice(temps, 1)\n",
    "    \n",
    "bs_moe = z_star * np.std(bs_reps)\n",
    "bs_conf_int = np.percentile(bs_reps, [2.5, 97.5])\n",
    "\n",
    "print('Using the bootstrap approach the margin of error is ', bs_moe, 'and the 95% confidence interval is ', bs_conf_int)"
   ]
  },
  {
   "cell_type": "markdown",
   "metadata": {},
   "source": [
    "We are 95% confident that the mean temperature is between 96.7 and 99.5 degrees. So we should consider abnormal temperatures anything below 96.7 or above 99.5 degrees Fahrenheit using the bootstrap method."
   ]
  },
  {
   "cell_type": "code",
   "execution_count": 13,
   "metadata": {},
   "outputs": [
    {
     "name": "stdout",
     "output_type": "stream",
     "text": [
      "Margin of error:  1.431474942482542\n",
      "95% confidence interval:  (96.81775582674821, 99.68070571171329)\n"
     ]
    }
   ],
   "source": [
    "#frequentist approach\n",
    "\n",
    "\n",
    "z_star = norm.ppf(0.975)\n",
    "\n",
    "#In computing the margin of error, I will not divide by sqrt of the sample size because this will\n",
    "moe = z_star * np.std(temps)\n",
    "conf_int = (np.mean(temps)-moe, np.mean(temps)+moe)\n",
    "print('Margin of error: ', moe)\n",
    "print('95% confidence interval: ', conf_int)\n"
   ]
  },
  {
   "cell_type": "markdown",
   "metadata": {},
   "source": [
    "Using the frequentist approach, we are 95% confident that the mean body temperature falls between 96.818 and 99.681 degrees Fahrenheit.  <br>\n",
    "So we would consider temperatures below 96.818 degrees Fahrenheit or above 99.681 degrees Fahrenheit abnormal."
   ]
  },
  {
   "cell_type": "markdown",
   "metadata": {},
   "source": [
    "# 6. Is there a significant difference between males and females in normal temperature? \n",
    "What testing approach did you use and why? <br>\n",
    "Write a story with your conclusion in the context of the original problem."
   ]
  },
  {
   "cell_type": "markdown",
   "metadata": {},
   "source": [
    "First I will split the dataframe into two -- one for males and one for females."
   ]
  },
  {
   "cell_type": "code",
   "execution_count": 14,
   "metadata": {},
   "outputs": [
    {
     "name": "stdout",
     "output_type": "stream",
     "text": [
      "65 65\n"
     ]
    }
   ],
   "source": [
    "male_df = df[df['gender'] == 'M']\n",
    "female_df = df[df['gender'] == 'F']\n",
    "\n",
    "male_temps = male_df['temperature']\n",
    "female_temps = female_df['temperature']\n",
    "\n",
    "print(len(male_temps), len(female_temps))"
   ]
  },
  {
   "cell_type": "code",
   "execution_count": 15,
   "metadata": {},
   "outputs": [
    {
     "data": {
      "image/png": "[encoded data removed]",
      "text/plain": [
       "<Figure size 432x288 with 1 Axes>"
      ]
     },
     "metadata": {},
     "output_type": "display_data"
    }
   ],
   "source": [
    "sns.boxplot(x='gender', y = 'temperature', data = df, hue = 'gender')\n",
    "plt.show()"
   ]
  },
  {
   "cell_type": "code",
   "execution_count": null,
   "metadata": {},
   "outputs": [],
   "source": []
  },
  {
   "cell_type": "markdown",
   "metadata": {},
   "source": [
    "Based on the above boxplots, it appears that the mean temperature for females is higher than that of males but we will investigate further with a two-sample hypothesis test. <br>\n",
    "I will use a two-sample hypothesis test because we are comparing the mean of two populations (male and female). <br>\n",
    "I will use a z-statistic because the sample size is large. (65 males and 65 females)\n",
    "\n",
    "Null hypothesis: There is no significant difference between males' and females'normal temperatures. <br>\n",
    "Alt. hypothesis: Women have a higher normal body temperature than men, ie avg. male temp - avg. female temp < 0. <br> \n",
    "Significance level = 0.05 <br>\n",
    "Our test statistic will be the difference between the mean male temperature and the mean female temperaute."
   ]
  },
  {
   "cell_type": "code",
   "execution_count": 16,
   "metadata": {},
   "outputs": [
    {
     "name": "stdout",
     "output_type": "stream",
     "text": [
      "z-score:  -2.2854345381656103\n",
      "p-value:  0.011143680380328775\n"
     ]
    }
   ],
   "source": [
    "\n",
    "test_stat = np.mean(male_temps) - np.mean(female_temps)\n",
    "\n",
    "#two-sided, two-sample hypothesis test\n",
    "z, p_z = ztest(male_temps, female_temps, alternative = 'smaller')\n",
    "\n",
    "print('z-score: ', z)\n",
    "print('p-value: ', p_z)"
   ]
  },
  {
   "cell_type": "markdown",
   "metadata": {},
   "source": [
    "Since the p-value is less than the significance level of 0.05 we can reject the null hypothesis.  Female body temperatures are higher than female body temperatures.  "
   ]
  },
  {
   "cell_type": "markdown",
   "metadata": {},
   "source": [
    "# Conclusion"
   ]
  },
  {
   "cell_type": "markdown",
   "metadata": {},
   "source": [
    "In conclusion, the true mean normal body temperature is not 98.6 degress Fahrenheit.  \n",
    "There is a difference in the normal body temperature of men and women, and women seem to have higher normal bosy temperatures.\n"
   ]
  },
  {
   "cell_type": "code",
   "execution_count": null,
   "metadata": {},
   "outputs": [],
   "source": []
  }
 ],
 "metadata": {
  "kernelspec": {
   "display_name": "Python 3",
   "language": "python",
   "name": "python3"
  },
  "language_info": {
   "codemirror_mode": {
    "name": "ipython",
    "version": 3
   },
   "file_extension": ".py",
   "mimetype": "text/x-python",
   "name": "python",
   "nbconvert_exporter": "python",
   "pygments_lexer": "ipython3",
   "version": "3.7.1"
  }
 },
 "nbformat": 4,
 "nbformat_minor": 1
}
